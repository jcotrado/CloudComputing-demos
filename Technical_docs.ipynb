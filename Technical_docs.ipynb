{
  "nbformat": 4,
  "nbformat_minor": 0,
  "metadata": {
    "colab": {
      "name": "Technical-docs.ipynb",
      "provenance": [],
      "authorship_tag": "ABX9TyPENhXVY1/nDySWwqmzz4UD",
      "include_colab_link": true
    },
    "kernelspec": {
      "name": "python3",
      "display_name": "Python 3"
    },
    "language_info": {
      "name": "python"
    }
  },
  "cells": [
    {
      "cell_type": "markdown",
      "metadata": {
        "id": "view-in-github",
        "colab_type": "text"
      },
      "source": [
        "<a href=\"https://colab.research.google.com/github/jcotrado/CloudComputing-demos/blob/main/Technical_docs.ipynb\" target=\"_parent\"><img src=\"https://colab.research.google.com/assets/colab-badge.svg\" alt=\"Open In Colab\"/></a>"
      ]
    },
    {
      "cell_type": "code",
      "metadata": {
        "id": "CQxd6IRGMXY1"
      },
      "source": [
        "def HelloWorld():\n",
        "  print(\" Mi primer prueba con Gist - Hello World!\")\n",
        "  return \"hi\"\n",
        "\n",
        "\n",
        "  HelloWorld()\n",
        "\n",
        "  "
      ],
      "execution_count": null,
      "outputs": []
    },
    {
      "cell_type": "markdown",
      "metadata": {
        "id": "VAMyLFuSMqoT"
      },
      "source": [
        "## Ingest "
      ]
    },
    {
      "cell_type": "markdown",
      "metadata": {
        "id": "BsqiVIl6MvDF"
      },
      "source": [
        "### Es el markdonw prueba\n",
        "* prueba1\n",
        "* Prueba 2"
      ]
    },
    {
      "cell_type": "markdown",
      "metadata": {
        "id": "hR0nIu-zMz7v"
      },
      "source": [
        "##MODELING\n"
      ]
    },
    {
      "cell_type": "code",
      "metadata": {
        "id": "mk5fdMe8ND3D"
      },
      "source": [
        ""
      ],
      "execution_count": null,
      "outputs": []
    }
  ]
}